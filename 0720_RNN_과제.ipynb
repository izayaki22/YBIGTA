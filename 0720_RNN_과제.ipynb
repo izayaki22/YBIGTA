{
  "cells": [
    {
      "cell_type": "markdown",
      "metadata": {
        "id": "Rmr8ZDIIOJKY"
      },
      "source": [
        "# **Recurrent Neural Networks - 필수 과제**\n",
        "\n",
        "**LSTM**을 구현해봅시다!\n",
        "<br><br><br>\n",
        "**필요 사전 지식**:\n",
        "\n",
        "- <u>PyTorch</u> (선택 과제 1)\n",
        "\n",
        "<br>\n",
        "\n",
        "**추가 사전 지식**: (알면 좋으나 몰라도 괜찮음)\n",
        "\n",
        "- <u>Tokenization</u>, <u>Word Embedding</u> (선택 과제 2)\n",
        "\n",
        "<br><br><br><br><br>"
      ]
    },
    {
      "cell_type": "code",
      "execution_count": 1,
      "metadata": {
        "colab": {
          "base_uri": "https://localhost:8080/"
        },
        "id": "JjtmErloOJKw",
        "outputId": "43db69ca-59ec-436b-fbbe-29e2f7b4555c"
      },
      "outputs": [
        {
          "output_type": "stream",
          "name": "stdout",
          "text": [
            "Requirement already satisfied: transformers in /usr/local/lib/python3.10/dist-packages (4.31.0)\n",
            "Requirement already satisfied: filelock in /usr/local/lib/python3.10/dist-packages (from transformers) (3.12.2)\n",
            "Requirement already satisfied: huggingface-hub<1.0,>=0.14.1 in /usr/local/lib/python3.10/dist-packages (from transformers) (0.16.4)\n",
            "Requirement already satisfied: numpy>=1.17 in /usr/local/lib/python3.10/dist-packages (from transformers) (1.22.4)\n",
            "Requirement already satisfied: packaging>=20.0 in /usr/local/lib/python3.10/dist-packages (from transformers) (23.1)\n",
            "Requirement already satisfied: pyyaml>=5.1 in /usr/local/lib/python3.10/dist-packages (from transformers) (6.0.1)\n",
            "Requirement already satisfied: regex!=2019.12.17 in /usr/local/lib/python3.10/dist-packages (from transformers) (2022.10.31)\n",
            "Requirement already satisfied: requests in /usr/local/lib/python3.10/dist-packages (from transformers) (2.27.1)\n",
            "Requirement already satisfied: tokenizers!=0.11.3,<0.14,>=0.11.1 in /usr/local/lib/python3.10/dist-packages (from transformers) (0.13.3)\n",
            "Requirement already satisfied: safetensors>=0.3.1 in /usr/local/lib/python3.10/dist-packages (from transformers) (0.3.1)\n",
            "Requirement already satisfied: tqdm>=4.27 in /usr/local/lib/python3.10/dist-packages (from transformers) (4.65.0)\n",
            "Requirement already satisfied: fsspec in /usr/local/lib/python3.10/dist-packages (from huggingface-hub<1.0,>=0.14.1->transformers) (2023.6.0)\n",
            "Requirement already satisfied: typing-extensions>=3.7.4.3 in /usr/local/lib/python3.10/dist-packages (from huggingface-hub<1.0,>=0.14.1->transformers) (4.7.1)\n",
            "Requirement already satisfied: urllib3<1.27,>=1.21.1 in /usr/local/lib/python3.10/dist-packages (from requests->transformers) (1.26.16)\n",
            "Requirement already satisfied: certifi>=2017.4.17 in /usr/local/lib/python3.10/dist-packages (from requests->transformers) (2023.5.7)\n",
            "Requirement already satisfied: charset-normalizer~=2.0.0 in /usr/local/lib/python3.10/dist-packages (from requests->transformers) (2.0.12)\n",
            "Requirement already satisfied: idna<4,>=2.5 in /usr/local/lib/python3.10/dist-packages (from requests->transformers) (3.4)\n",
            "Requirement already satisfied: datasets in /usr/local/lib/python3.10/dist-packages (2.14.0)\n",
            "Requirement already satisfied: numpy>=1.17 in /usr/local/lib/python3.10/dist-packages (from datasets) (1.22.4)\n",
            "Requirement already satisfied: pyarrow>=8.0.0 in /usr/local/lib/python3.10/dist-packages (from datasets) (9.0.0)\n",
            "Requirement already satisfied: dill<0.3.8,>=0.3.0 in /usr/local/lib/python3.10/dist-packages (from datasets) (0.3.7)\n",
            "Requirement already satisfied: pandas in /usr/local/lib/python3.10/dist-packages (from datasets) (1.5.3)\n",
            "Requirement already satisfied: requests>=2.19.0 in /usr/local/lib/python3.10/dist-packages (from datasets) (2.27.1)\n",
            "Requirement already satisfied: tqdm>=4.62.1 in /usr/local/lib/python3.10/dist-packages (from datasets) (4.65.0)\n",
            "Requirement already satisfied: xxhash in /usr/local/lib/python3.10/dist-packages (from datasets) (3.2.0)\n",
            "Requirement already satisfied: multiprocess in /usr/local/lib/python3.10/dist-packages (from datasets) (0.70.15)\n",
            "Requirement already satisfied: fsspec[http]>=2021.11.1 in /usr/local/lib/python3.10/dist-packages (from datasets) (2023.6.0)\n",
            "Requirement already satisfied: aiohttp in /usr/local/lib/python3.10/dist-packages (from datasets) (3.8.4)\n",
            "Requirement already satisfied: huggingface-hub<1.0.0,>=0.14.0 in /usr/local/lib/python3.10/dist-packages (from datasets) (0.16.4)\n",
            "Requirement already satisfied: packaging in /usr/local/lib/python3.10/dist-packages (from datasets) (23.1)\n",
            "Requirement already satisfied: pyyaml>=5.1 in /usr/local/lib/python3.10/dist-packages (from datasets) (6.0.1)\n",
            "Requirement already satisfied: attrs>=17.3.0 in /usr/local/lib/python3.10/dist-packages (from aiohttp->datasets) (23.1.0)\n",
            "Requirement already satisfied: charset-normalizer<4.0,>=2.0 in /usr/local/lib/python3.10/dist-packages (from aiohttp->datasets) (2.0.12)\n",
            "Requirement already satisfied: multidict<7.0,>=4.5 in /usr/local/lib/python3.10/dist-packages (from aiohttp->datasets) (6.0.4)\n",
            "Requirement already satisfied: async-timeout<5.0,>=4.0.0a3 in /usr/local/lib/python3.10/dist-packages (from aiohttp->datasets) (4.0.2)\n",
            "Requirement already satisfied: yarl<2.0,>=1.0 in /usr/local/lib/python3.10/dist-packages (from aiohttp->datasets) (1.9.2)\n",
            "Requirement already satisfied: frozenlist>=1.1.1 in /usr/local/lib/python3.10/dist-packages (from aiohttp->datasets) (1.4.0)\n",
            "Requirement already satisfied: aiosignal>=1.1.2 in /usr/local/lib/python3.10/dist-packages (from aiohttp->datasets) (1.3.1)\n",
            "Requirement already satisfied: filelock in /usr/local/lib/python3.10/dist-packages (from huggingface-hub<1.0.0,>=0.14.0->datasets) (3.12.2)\n",
            "Requirement already satisfied: typing-extensions>=3.7.4.3 in /usr/local/lib/python3.10/dist-packages (from huggingface-hub<1.0.0,>=0.14.0->datasets) (4.7.1)\n",
            "Requirement already satisfied: urllib3<1.27,>=1.21.1 in /usr/local/lib/python3.10/dist-packages (from requests>=2.19.0->datasets) (1.26.16)\n",
            "Requirement already satisfied: certifi>=2017.4.17 in /usr/local/lib/python3.10/dist-packages (from requests>=2.19.0->datasets) (2023.5.7)\n",
            "Requirement already satisfied: idna<4,>=2.5 in /usr/local/lib/python3.10/dist-packages (from requests>=2.19.0->datasets) (3.4)\n",
            "Requirement already satisfied: python-dateutil>=2.8.1 in /usr/local/lib/python3.10/dist-packages (from pandas->datasets) (2.8.2)\n",
            "Requirement already satisfied: pytz>=2020.1 in /usr/local/lib/python3.10/dist-packages (from pandas->datasets) (2022.7.1)\n",
            "Requirement already satisfied: six>=1.5 in /usr/local/lib/python3.10/dist-packages (from python-dateutil>=2.8.1->pandas->datasets) (1.16.0)\n"
          ]
        }
      ],
      "source": [
        "!pip install transformers\n",
        "!pip install datasets"
      ]
    },
    {
      "cell_type": "code",
      "execution_count": 2,
      "metadata": {
        "id": "d-84ajufOJKz"
      },
      "outputs": [],
      "source": [
        "import torch\n",
        "from torch import nn, optim\n",
        "from torch.utils.data import DataLoader\n",
        "\n",
        "from transformers import AutoModel, AutoTokenizer\n",
        "from datasets import load_dataset\n",
        "\n",
        "from tqdm import tqdm"
      ]
    },
    {
      "cell_type": "markdown",
      "metadata": {
        "id": "u-TUPbxWOJK2"
      },
      "source": [
        "<br><br>\n",
        "\n",
        "[Hugging Face](https://huggingface.co)에서 [Rotten Tomatoes dataset](https://huggingface.co/datasets/rotten_tomatoes)과 [pretrained BERT](https://huggingface.co/bert-base-uncased)의 tokenizer를 가져오겠습니다.\n",
        "\n",
        "또 학습 부담을 줄이기 위해 pretrained BERT에 내장된 word embedding layer의 weight도 가져옵시다."
      ]
    },
    {
      "cell_type": "code",
      "execution_count": 3,
      "metadata": {
        "id": "e-dyUdb8OJK3"
      },
      "outputs": [],
      "source": [
        "# https://huggingface.co/datasets/rotten_tomatoes\n",
        "dataset = load_dataset(\"rotten_tomatoes\")\n",
        "\n",
        "# https://huggingface.co/bert-base-uncased\n",
        "pretrained_tokenizer = AutoTokenizer.from_pretrained(\"bert-base-uncased\")\n",
        "pretrained_embeddings = AutoModel.from_pretrained(\"bert-base-uncased\").embeddings.word_embeddings"
      ]
    },
    {
      "cell_type": "markdown",
      "metadata": {
        "id": "Q2F8XpV2OJK4"
      },
      "source": [
        "<br><br>\n",
        "\n",
        "기본 BERT는 token을 768차원 벡터로 embedding합니다. 우리의 작은 dataset과 작은 모델에게 768차원은 부담스러우니 PCA를 사용해 64차원으로 줄여줍시다."
      ]
    },
    {
      "cell_type": "code",
      "execution_count": 4,
      "metadata": {
        "id": "6wu0onsZOJK5"
      },
      "outputs": [],
      "source": [
        "nano_embed = torch.pca_lowrank(pretrained_embeddings.weight.detach(), q=64)[0]"
      ]
    },
    {
      "cell_type": "markdown",
      "metadata": {
        "id": "gIPJl01gOJK6"
      },
      "source": [
        "<br><br>\n",
        "\n",
        "그런데 무작정 64차원으로 줄여도 되는 걸까요? BERT의 d_model이 괜히 768도 아닐 테고, 정보의 손실이 아주 클 것 같은데 말입니다.\n",
        "\n",
        "궁금하니 코사인 유사도로 축소된 embedding layer에 token들의 정보가 그럭저럭 잘 남아있는지 확인해봅시다."
      ]
    },
    {
      "cell_type": "code",
      "execution_count": 5,
      "metadata": {
        "id": "QCydvBFaOJK7"
      },
      "outputs": [],
      "source": [
        "cos = (nano_embed @ nano_embed.T) / (nano_embed.abs() @ nano_embed.abs().T)"
      ]
    },
    {
      "cell_type": "code",
      "execution_count": 6,
      "metadata": {
        "colab": {
          "base_uri": "https://localhost:8080/"
        },
        "id": "LqcVhBpSOJK8",
        "outputId": "1b305ffd-7043-43ca-8922-5cf63f2004a4"
      },
      "outputs": [
        {
          "output_type": "execute_result",
          "data": {
            "text/plain": [
              "['davis',\n",
              " 'fisher',\n",
              " 'sadness',\n",
              " 'logan',\n",
              " 'mia',\n",
              " '##za',\n",
              " 'destiny',\n",
              " 'hits',\n",
              " 'kw',\n",
              " 'someone',\n",
              " 'bennett',\n",
              " 'mitch',\n",
              " 'him',\n",
              " 'ʑ',\n",
              " 'say',\n",
              " 'barclay',\n",
              " 'respectively',\n",
              " 'jones',\n",
              " 'blackburn',\n",
              " 'overcome']"
            ]
          },
          "metadata": {},
          "execution_count": 6
        }
      ],
      "source": [
        "# word에 다양한 값을 넣어보세요! tokenizer의 vocab에 없는 token에 대해서는 빈 list가 뜹니다.\n",
        "word = \"jackson\"\n",
        "\n",
        "([*map(pretrained_tokenizer.decode, cos[pretrained_tokenizer.vocab[word]].argsort(descending=True)[1:21])] if word in pretrained_tokenizer.vocab else [])"
      ]
    },
    {
      "cell_type": "markdown",
      "metadata": {
        "id": "QAJcu50WOJK9"
      },
      "source": [
        "꽤 잘 남아있는 것 같습니다.\n",
        "\n",
        "(TMI: 조금 더 욕심을 부려 한번 32차원으로 줄여보면 무시하기 어려운 정보의 손실을 체감할 수 있습니다.)\n",
        "\n",
        "<br><br>"
      ]
    },
    {
      "cell_type": "markdown",
      "metadata": {
        "id": "sj_go_b5OJK-"
      },
      "source": [
        "이제 LSTM을 구현합시다! 사실 원래 BiLSTM으로 하려고 했는데 underfitting이 심해서 그냥 plain LSTM으로 준비했습니다."
      ]
    },
    {
      "cell_type": "markdown",
      "metadata": {
        "id": "wR-Mq4c9OJK-"
      },
      "source": [
        "<br><br><br><br>\n",
        "#### <span style=\"color:red\">**<u>Q1.</u>**</span>\n",
        "\n",
        "`class LSTMCell`의 빈칸을 채우세요."
      ]
    },
    {
      "cell_type": "code",
      "execution_count": 7,
      "metadata": {
        "id": "_5CuQmeWOJK_"
      },
      "outputs": [],
      "source": [
        "class LSTMCell(nn.Module):\n",
        "    def __init__(self, d_x, d_h): # d_x: x의 차원수 (scalar int)\n",
        "                                  # d_h: h의 차원수 (scalar int)\n",
        "        super().__init__()\n",
        "        d_stack = d_x + d_h\n",
        "        ######################### START OF YOUR CODE #########################\n",
        "\n",
        "        dim1 = d_stack\n",
        "        dim2 = d_h\n",
        "        dim3 = d_stack\n",
        "        dim4 = d_h\n",
        "        dim5 = d_stack\n",
        "        dim6 = d_h\n",
        "\n",
        "        ########################## END OF YOUR CODE ##########################\n",
        "        self.W_f = nn.Linear(d_stack, d_h)\n",
        "        self.W_i = nn.Linear(dim1, dim2)\n",
        "        self.W_C = nn.Linear(dim3, dim4)\n",
        "        self.W_o = nn.Linear(dim5, dim6)\n",
        "\n",
        "\n",
        "    # forward는 t-1의 h_{t-1}, C_{t-1}과 t의 x_t를 입력으로 받아 계산합니다.\n",
        "\n",
        "    def forward(self, x, h, C): # x: x_t\n",
        "                                # h: h_{h-1}\n",
        "                                # C: C_{t-1}\n",
        "        stack = torch.cat([x, h])\n",
        "        ######################### START OF YOUR CODE #########################\n",
        "\n",
        "        f =   torch.sigmoid(self.W_f(stack))\n",
        "        i =   torch.sigmoid(self.W_i(stack))\n",
        "        C_ =  self.W_C(stack).tanh()\n",
        "\n",
        "        C_t = f * C + i * C_\n",
        "\n",
        "        o =   torch.sigmoid(self.W_o(stack))\n",
        "        h_t = o * torch.tanh(C_t)\n",
        "\n",
        "        ########################## END OF YOUR CODE ##########################\n",
        "        return h_t, C_t"
      ]
    },
    {
      "cell_type": "code",
      "execution_count": 8,
      "metadata": {
        "id": "CCeJKzWgOJLB"
      },
      "outputs": [],
      "source": [
        "class LSTM(nn.Module):\n",
        "    def __init__(self, vocab_size, d_out, pretrained_embeddings):\n",
        "        super().__init__()\n",
        "        vocab_size = pretrained_embeddings.shape[0]\n",
        "        d_h = d_model = pretrained_embeddings.shape[1]\n",
        "\n",
        "        self.embed = nn.Embedding(vocab_size, d_model, _weight=pretrained_embeddings.clone()) # word embedding layer\n",
        "        self.cell = LSTMCell(d_x=d_model, d_h=d_h) # LSTM cell\n",
        "        self.out = nn.Linear(d_h, d_out, bias=True) # output layer\n",
        "\n",
        "        self.h_init = nn.Parameter(torch.zeros(d_h), requires_grad=False) # initial h\n",
        "        self.C_init = nn.Parameter(torch.zeros(d_h), requires_grad=False) # initial C\n",
        "\n",
        "    def forward(self, input_ids):\n",
        "        embedded = self.embed(input_ids).squeeze()\n",
        "\n",
        "        h = self.h_init.clone() # h 초기화\n",
        "        C = self.C_init.clone() # C 초기화\n",
        "        for x in embedded:\n",
        "            h, C = self.cell(x, h, C) # iterate over embedded sequence\n",
        "\n",
        "        return self.out(h).squeeze() # last hidden state를 output layer에 통과시킨 값을 반환"
      ]
    },
    {
      "cell_type": "markdown",
      "metadata": {
        "id": "xylkiKIjOJLC"
      },
      "source": [
        "<br><br><br><br>\n",
        "#### <span style=\"color:red\">**<u>Q2.</u>**</span>\n",
        "\n",
        "Test accuracy가 0.7 이상이 되도록 모델을 훈련시키세요."
      ]
    },
    {
      "cell_type": "code",
      "execution_count": 9,
      "metadata": {
        "id": "0EaiL1NiOJLE"
      },
      "outputs": [],
      "source": [
        "######################### START OF YOUR CODE #########################\n",
        "\n",
        "# 필요에 따라 바꿔도 됩니다.\n",
        "device = torch.device(\"cuda\" if torch.cuda.is_available() else \"cpu\")\n",
        "\n",
        "########################## END OF YOUR CODE ##########################\n",
        "\n",
        "model = LSTM(vocab_size=pretrained_tokenizer.vocab_size, d_out=1, pretrained_embeddings=nano_embed).to(device)"
      ]
    },
    {
      "cell_type": "code",
      "execution_count": 10,
      "metadata": {
        "id": "5kiPU7nXOJLE"
      },
      "outputs": [],
      "source": [
        "######################### START OF YOUR CODE #########################\n",
        "\n",
        "# learning rate을 적절히 수정해보세요.\n",
        "lr = 1e-03\n",
        "\n",
        "########################## END OF YOUR CODE ##########################\n",
        "\n",
        "criterion = nn.BCEWithLogitsLoss()\n",
        "optimizer = optim.Adam(model.parameters(), lr=lr)"
      ]
    },
    {
      "cell_type": "code",
      "execution_count": 11,
      "metadata": {
        "id": "KlkfC2icOJLF"
      },
      "outputs": [],
      "source": [
        "train_loader = DataLoader(dataset[\"train\"], shuffle=True)"
      ]
    },
    {
      "cell_type": "code",
      "execution_count": 12,
      "metadata": {
        "colab": {
          "base_uri": "https://localhost:8080/"
        },
        "id": "z3ojdGQKOJLG",
        "outputId": "aef1dae3-83b4-484e-c622-f5963b138b1e"
      },
      "outputs": [
        {
          "output_type": "stream",
          "name": "stderr",
          "text": [
            "  6%|▌         | 501/8530 [00:44<29:21,  4.56it/s]"
          ]
        },
        {
          "output_type": "stream",
          "name": "stdout",
          "text": [
            "  500 iter: 0.6934495131969451\n"
          ]
        },
        {
          "output_type": "stream",
          "name": "stderr",
          "text": [
            " 12%|█▏        | 1006/8530 [01:28<09:09, 13.69it/s]"
          ]
        },
        {
          "output_type": "stream",
          "name": "stdout",
          "text": [
            " 1000 iter: 0.6926161396503449\n"
          ]
        },
        {
          "output_type": "stream",
          "name": "stderr",
          "text": [
            " 18%|█▊        | 1506/8530 [02:11<05:32, 21.14it/s]"
          ]
        },
        {
          "output_type": "stream",
          "name": "stdout",
          "text": [
            " 1500 iter: 0.6941354365348816\n"
          ]
        },
        {
          "output_type": "stream",
          "name": "stderr",
          "text": [
            " 23%|██▎       | 2001/8530 [02:51<05:17, 20.58it/s]"
          ]
        },
        {
          "output_type": "stream",
          "name": "stdout",
          "text": [
            " 2000 iter: 0.6849324132204055\n"
          ]
        },
        {
          "output_type": "stream",
          "name": "stderr",
          "text": [
            " 29%|██▉       | 2504/8530 [03:30<06:03, 16.58it/s]"
          ]
        },
        {
          "output_type": "stream",
          "name": "stdout",
          "text": [
            " 2500 iter: 0.6851200268268586\n"
          ]
        },
        {
          "output_type": "stream",
          "name": "stderr",
          "text": [
            " 35%|███▌      | 3002/8530 [04:11<21:16,  4.33it/s]"
          ]
        },
        {
          "output_type": "stream",
          "name": "stdout",
          "text": [
            " 3000 iter: 0.670747533634305\n"
          ]
        },
        {
          "output_type": "stream",
          "name": "stderr",
          "text": [
            " 41%|████      | 3504/8530 [04:50<06:02, 13.87it/s]"
          ]
        },
        {
          "output_type": "stream",
          "name": "stdout",
          "text": [
            " 3500 iter: 0.6985502539426088\n"
          ]
        },
        {
          "output_type": "stream",
          "name": "stderr",
          "text": [
            " 47%|████▋     | 4001/8530 [05:27<02:48, 26.80it/s]"
          ]
        },
        {
          "output_type": "stream",
          "name": "stdout",
          "text": [
            " 4000 iter: 0.6872402194738388\n"
          ]
        },
        {
          "output_type": "stream",
          "name": "stderr",
          "text": [
            " 53%|█████▎    | 4504/8530 [06:04<03:53, 17.26it/s]"
          ]
        },
        {
          "output_type": "stream",
          "name": "stdout",
          "text": [
            " 4500 iter: 0.6743432167768478\n"
          ]
        },
        {
          "output_type": "stream",
          "name": "stderr",
          "text": [
            " 59%|█████▊    | 5004/8530 [06:48<05:12, 11.29it/s]"
          ]
        },
        {
          "output_type": "stream",
          "name": "stdout",
          "text": [
            " 5000 iter: 0.6312007363736629\n"
          ]
        },
        {
          "output_type": "stream",
          "name": "stderr",
          "text": [
            " 65%|██████▍   | 5503/8530 [07:25<04:52, 10.36it/s]"
          ]
        },
        {
          "output_type": "stream",
          "name": "stdout",
          "text": [
            " 5500 iter: 0.5668577252775431\n"
          ]
        },
        {
          "output_type": "stream",
          "name": "stderr",
          "text": [
            " 70%|███████   | 6004/8530 [08:04<01:32, 27.28it/s]"
          ]
        },
        {
          "output_type": "stream",
          "name": "stdout",
          "text": [
            " 6000 iter: 0.5727428950369358\n"
          ]
        },
        {
          "output_type": "stream",
          "name": "stderr",
          "text": [
            " 76%|███████▋  | 6505/8530 [08:50<02:05, 16.10it/s]"
          ]
        },
        {
          "output_type": "stream",
          "name": "stdout",
          "text": [
            " 6500 iter: 0.534084505289793\n"
          ]
        },
        {
          "output_type": "stream",
          "name": "stderr",
          "text": [
            " 82%|████████▏ | 7003/8530 [09:30<01:07, 22.65it/s]"
          ]
        },
        {
          "output_type": "stream",
          "name": "stdout",
          "text": [
            " 7000 iter: 0.5159378906637431\n"
          ]
        },
        {
          "output_type": "stream",
          "name": "stderr",
          "text": [
            " 88%|████████▊ | 7504/8530 [10:16<00:36, 27.77it/s]"
          ]
        },
        {
          "output_type": "stream",
          "name": "stdout",
          "text": [
            " 7500 iter: 0.511497980542481\n"
          ]
        },
        {
          "output_type": "stream",
          "name": "stderr",
          "text": [
            " 94%|█████████▍| 8003/8530 [10:57<00:51, 10.30it/s]"
          ]
        },
        {
          "output_type": "stream",
          "name": "stdout",
          "text": [
            " 8000 iter: 0.5450158197283744\n"
          ]
        },
        {
          "output_type": "stream",
          "name": "stderr",
          "text": [
            "100%|█████████▉| 8506/8530 [11:39<00:00, 24.77it/s]"
          ]
        },
        {
          "output_type": "stream",
          "name": "stdout",
          "text": [
            " 8500 iter: 0.5379288395941257\n"
          ]
        },
        {
          "output_type": "stream",
          "name": "stderr",
          "text": [
            "100%|██████████| 8530/8530 [11:41<00:00, 12.15it/s]\n"
          ]
        }
      ],
      "source": [
        "######################### START OF YOUR CODE #########################\n",
        "\n",
        "# 필요에 따라 바꿔도 됩니다.\n",
        "num_print = 500\n",
        "num_batch = 20\n",
        "\n",
        "########################## END OF YOUR CODE ##########################\n",
        "\n",
        "\n",
        "# train\n",
        "\n",
        "save_l = 0\n",
        "optimizer.zero_grad()\n",
        "for i, data in enumerate(tqdm(train_loader)):\n",
        "    text, label = data[\"text\"][0], data[\"label\"][0]\n",
        "    input_ids = pretrained_tokenizer.encode(text, return_tensors=\"pt\").to(device)\n",
        "    y_pred = model(input_ids)\n",
        "\n",
        "    label = label.to(device) * 1.\n",
        "    loss = criterion(y_pred, label)\n",
        "    loss.backward()\n",
        "\n",
        "    if not (i+1)%num_batch:\n",
        "        optimizer.step()\n",
        "        optimizer.zero_grad()\n",
        "\n",
        "    save_l += loss.item()\n",
        "    if not (i+1)%num_print:\n",
        "        print(f\"{i+1:>5} iter: {save_l/num_print}\")\n",
        "        save_l = 0"
      ]
    },
    {
      "cell_type": "code",
      "execution_count": 13,
      "metadata": {
        "colab": {
          "base_uri": "https://localhost:8080/"
        },
        "id": "RjBv66hvOJLH",
        "outputId": "c451e2bc-fe94-400a-f029-7e269be6c5bd"
      },
      "outputs": [
        {
          "output_type": "stream",
          "name": "stderr",
          "text": [
            "100%|██████████| 1066/1066 [00:12<00:00, 86.77it/s] "
          ]
        },
        {
          "output_type": "stream",
          "name": "stdout",
          "text": [
            "Test accuracy: 0.7673545966228893\n"
          ]
        },
        {
          "output_type": "stream",
          "name": "stderr",
          "text": [
            "\n"
          ]
        }
      ],
      "source": [
        "test_loader = DataLoader(dataset[\"test\"], shuffle=True)\n",
        "\n",
        "\n",
        "# test\n",
        "\n",
        "res = torch.tensor(0)\n",
        "with torch.no_grad():\n",
        "    for i, data in enumerate(tqdm(test_loader)):\n",
        "        text, label = data[\"text\"][0], data[\"label\"][0]\n",
        "        input_ids = pretrained_tokenizer.encode(text, return_tensors=\"pt\").to(device)\n",
        "        y_pred = model(input_ids)\n",
        "        res += ((1 if y_pred > 0 else 0) == label)\n",
        "\n",
        "print(\"Test accuracy:\", res.item() / dataset[\"test\"].num_rows)"
      ]
    },
    {
      "cell_type": "code",
      "execution_count": 14,
      "metadata": {
        "colab": {
          "base_uri": "https://localhost:8080/"
        },
        "id": "aGPEBJD8OJLI",
        "outputId": "9915f443-ac37-47ca-a8ab-d82c115b28d4"
      },
      "outputs": [
        {
          "output_type": "stream",
          "name": "stdout",
          "text": [
            "{'text': \"that death is merely a transition is a common tenet in the world's religions . this deeply spiritual film taps into the meaning and consolation in afterlife communications .\", 'label': 1}\n",
            "0.8828829526901245\n"
          ]
        }
      ],
      "source": [
        "# 관찰용\n",
        "# n 값을 바꿔가며 훈련시킨 모델의 예측값을 구경해보세요\n",
        "n = 300\n",
        "\n",
        "print(dataset[\"test\"][n])\n",
        "with torch.no_grad():\n",
        "    print(model(pretrained_tokenizer.encode(dataset[\"test\"][n][\"text\"], return_tensors=\"pt\").to(device)).sigmoid().item())"
      ]
    }
  ],
  "metadata": {
    "kernelspec": {
      "display_name": "Python 3 (ipykernel)",
      "language": "python",
      "name": "python3"
    },
    "language_info": {
      "codemirror_mode": {
        "name": "ipython",
        "version": 3
      },
      "file_extension": ".py",
      "mimetype": "text/x-python",
      "name": "python",
      "nbconvert_exporter": "python",
      "pygments_lexer": "ipython3",
      "version": "3.8.10"
    },
    "colab": {
      "provenance": []
    }
  },
  "nbformat": 4,
  "nbformat_minor": 0
}